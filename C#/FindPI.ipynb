{
 "cells": [
  {
   "cell_type": "code",
   "execution_count": null,
   "metadata": {
    "dotnet_interactive": {
     "language": "csharp"
    }
   },
   "outputs": [
    {
     "data": {
      "text/html": [
       "<div class=\"dni-plaintext\">-0.03333333333333333</div>"
      ]
     },
     "metadata": {},
     "output_type": "display_data"
    }
   ],
   "source": [
    "bool check(double prev, double pi ,  int n){\n",
    "   if((uint)(Math.Pow(10,n)*prev)==(uint)(Math.Pow(10,n)*pi)) return true;\n",
    "   return false;\n",
    "}\n",
    "\n",
    "double step(int stp){\n",
    "   double s=2*stp;\n",
    "   if(stp%2==0)\n",
    "      return (double)(-4/(s*(s+1)*(s+2)));\n",
    "   return (double)(4/(s*(s+1)*(s+2)));\n",
    "   \n",
    "}\n",
    "step(2)"
   ]
  },
  {
   "cell_type": "code",
   "execution_count": null,
   "metadata": {
    "dotnet_interactive": {
     "language": "csharp"
    }
   },
   "outputs": [
    {
     "data": {
      "text/html": [
       "<div class=\"dni-plaintext\">3.1415926</div>"
      ]
     },
     "metadata": {},
     "output_type": "display_data"
    }
   ],
   "source": [
    "double pi(int n){\n",
    "   double prev=0;\n",
    "   double pi=3;\n",
    "   int stp=0;\n",
    "\n",
    "   while(!check(prev,pi,n)){\n",
    "      stp++;\n",
    "      prev=pi;\n",
    "      pi+=step(stp);\n",
    "   }\n",
    "\n",
    "   return (double)((long)(Math.Pow(10,n)*pi)/Math.Pow(10,n));\n",
    "}\n",
    "\n",
    "pi(7)"
   ]
  }
 ],
 "metadata": {
  "kernelspec": {
   "display_name": ".NET (C#)",
   "language": "C#",
   "name": ".net-csharp"
  },
  "language_info": {
   "file_extension": ".cs",
   "mimetype": "text/x-csharp",
   "name": "C#",
   "pygments_lexer": "csharp",
   "version": "9.0"
  },
  "orig_nbformat": 4
 },
 "nbformat": 4,
 "nbformat_minor": 2
}
